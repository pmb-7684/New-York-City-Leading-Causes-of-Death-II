{
 "cells": [
  {
   "cell_type": "markdown",
   "id": "5eeed57e-21c4-440c-9bc7-959a40da30bd",
   "metadata": {},
   "source": [
    "# NYC Leading Causes of Death\n",
    "\n",
    "## Background\n",
    "\n",
    "This project is the python version of the R project completed using the same data set.  The only difference is it will focus on the causes of death for men rather than women.\n",
    "\n",
    "This data comes from the NYC [OpenData] website. It is on the leading causes of death in New York City by sex and ethnicity since 2007. The cause of death is derived from the NYC death certificate which is issued for every death that occurs in the city”.\n",
    "\n",
    "## Ask \n",
    "\n",
    "This is not a formal project, so there is not a detailed business task (or statement). I will use the data set to explore, complete some summary statistics and visualizations.\n",
    "\n",
    "I have the following initial questions. What was the cause of death for men in NYC? What about the top 10 causes? Does race change the top cause for men? Basically, is it different for Black, White, Hispanic, and Asian men?\n",
    "\n",
    "## Prepare\n",
    "\n",
    "This csv file is named New_York_City_leading_Causes_of_Death. It contains 1,272 rows and 7 features where each row is a cause of death. It is contained on the NYC OpenData platform where it is updated annually by Department of Health and Mental Hygiene (DOHMH). It was last updated on February 8, 2022. The data is from 2007 to 2019.\n",
    "\n",
    "|column Name | description | definitions |\n",
    "|------------|-------------|-------------|\n",
    "|ï..Year| Year of Death |      year |\n",
    "|leading_cause| the unique cause of death |      Leading Cause |                      \n",
    "|Sex | Sex of decedent|  |\n",
    "|race/ethnicity | Race of decedent |  |                              \n",
    "|Deaths | Number of People who died due to this cause |  |\n",
    "|death_rate |Death rate within sex and race category|  |        \n",
    "|age_adjusted_death_rate |Age adjusted death rate within sex and race|      Age Adjusted Death Rate| \n",
    "\n",
    "Based on the information from the website all of the variables are in plain text. So, we will need to verify the types of each column after we import the data.\n",
    "\n",
    "The data and metadata can be found [here.](https://data.cityofnewyork.us/Health/New-York-City-Leading-Causes-of-Death/jb7j-dtam)\n",
    "\n",
    "After downloading the file, I renamed it to preserve the original file. During the data cleaning (process), any changes to the data will be saved under a file named ChangeLog.doc.  This are the same changes as the R, so you file is located there."
   ]
  },
  {
   "cell_type": "code",
   "execution_count": 1,
   "id": "cfe5f036-abcb-4283-8b44-b018b5e6818b",
   "metadata": {},
   "outputs": [],
   "source": [
    "import numpy as np\n",
    "import pandas as pd\n",
    "import matplotlib.pyplot as plt\n",
    "import os"
   ]
  },
  {
   "cell_type": "markdown",
   "id": "96346a48-cf9f-4f57-b219-fc9df8b6d7c6",
   "metadata": {},
   "source": [
    "First, we will read in the csv file. We have determined the file has missing (blank) data."
   ]
  },
  {
   "cell_type": "code",
   "execution_count": 17,
   "id": "206b6f8b-db89-4cfa-b2eb-3d28b4207222",
   "metadata": {},
   "outputs": [
    {
     "data": {
      "text/plain": [
       "'\\\\New-York-City-Leading-Causes-of-Death'"
      ]
     },
     "execution_count": 17,
     "metadata": {},
     "output_type": "execute_result"
    }
   ],
   "source": [
    "#os.getcwd()\n",
    "#os.chdir('C:\\\\Users\\\\SPB67942\\\\Documents\\\\Github\\\\New-York-City-Leading-Causes-of-Death')"
   ]
  },
  {
   "cell_type": "code",
   "execution_count": 21,
   "id": "c7539c9b-77e3-4c1d-bfcd-94682d0aa921",
   "metadata": {},
   "outputs": [],
   "source": [
    "nycCauses = pd.read_csv('New_York_City_Leading_Causes_of_Death_pmb2.csv')"
   ]
  },
  {
   "cell_type": "markdown",
   "id": "82041d85-e3db-4a8a-9073-3b2495e057be",
   "metadata": {},
   "source": [
    "After reviewing the data set, we can see which descendants have missing or \".\" values\n",
    "\n",
    "Descendants with “Other Race” are missing Death rate and age adjusted death rate.\n",
    "The remaining 138 descendants with missing deaths are a combination of with “other Race” and “Not Stated”.\n",
    "\n",
    "Based on the above, I will create a data set descendants with missing deaths removed (only 138 removed). We will name that data frame as nycCauses_Deaths. I will try to complete most of the analysis with that data set. Recall the original data set is 1,272 observations and now we have 1,134. The difference is 138.\n",
    "\n",
    "We will also create a second data set namednycCause_noNA, where we remove all NAs which will have 819 observations."
   ]
  },
  {
   "cell_type": "code",
   "execution_count": null,
   "id": "1c5401c6-d662-4df1-a25c-587cdb10264b",
   "metadata": {},
   "outputs": [],
   "source": [
    "nycCauses.head()"
   ]
  },
  {
   "cell_type": "code",
   "execution_count": 6,
   "id": "49bf51fd-e486-4100-b639-9b864fda88fc",
   "metadata": {},
   "outputs": [
    {
     "name": "stdout",
     "output_type": "stream",
     "text": [
      "Year                         0\n",
      "Leading Cause                0\n",
      "Sex                          0\n",
      "Race Ethnicity               0\n",
      "Deaths                     138\n",
      "Death Rate                 453\n",
      "Age Adjusted Death Rate    453\n",
      "dtype: int64\n"
     ]
    }
   ],
   "source": [
    "print(nycCauses.isna().sum())"
   ]
  },
  {
   "cell_type": "code",
   "execution_count": 7,
   "id": "12698619-31e9-4adb-8092-80c989024e5a",
   "metadata": {},
   "outputs": [],
   "source": [
    "#create file with deaths removed\n",
    "nycCauses_Deaths = nycCauses.dropna(subset =[\"Deaths\"])"
   ]
  },
  {
   "cell_type": "code",
   "execution_count": 8,
   "id": "31afaea6-ae36-4db1-b190-115d12ebc95e",
   "metadata": {},
   "outputs": [
    {
     "data": {
      "text/plain": [
       "(1134, 7)"
      ]
     },
     "execution_count": 8,
     "metadata": {},
     "output_type": "execute_result"
    }
   ],
   "source": [
    "#nycCauses_Deaths.head()\n",
    "np.shape(nycCauses_Deaths)"
   ]
  },
  {
   "cell_type": "code",
   "execution_count": 9,
   "id": "f3c6bab6-2342-404f-8591-b653ccc2813c",
   "metadata": {},
   "outputs": [],
   "source": [
    "#create file with death rate and age adjusted death rate removed\n",
    "nycCauses_noNAs = nycCauses.dropna(subset =[\"Death Rate\",\"Age Adjusted Death Rate\"])"
   ]
  },
  {
   "cell_type": "code",
   "execution_count": 10,
   "id": "4427a30c-82aa-4e0e-93ba-93191061b358",
   "metadata": {},
   "outputs": [
    {
     "data": {
      "text/plain": [
       "(819, 7)"
      ]
     },
     "execution_count": 10,
     "metadata": {},
     "output_type": "execute_result"
    }
   ],
   "source": [
    "np.shape(nycCauses_noNAs)"
   ]
  },
  {
   "cell_type": "markdown",
   "id": "d0d756e5-7752-4a65-b171-24bba3701c1d",
   "metadata": {},
   "source": [
    "Let's look at the structure of the data and the values within each variables (or features)"
   ]
  },
  {
   "cell_type": "code",
   "execution_count": 11,
   "id": "4ef4054a-c2ca-4837-8d24-b433d6bfe0ac",
   "metadata": {},
   "outputs": [
    {
     "data": {
      "text/html": [
       "<div>\n",
       "<style scoped>\n",
       "    .dataframe tbody tr th:only-of-type {\n",
       "        vertical-align: middle;\n",
       "    }\n",
       "\n",
       "    .dataframe tbody tr th {\n",
       "        vertical-align: top;\n",
       "    }\n",
       "\n",
       "    .dataframe thead th {\n",
       "        text-align: right;\n",
       "    }\n",
       "</style>\n",
       "<table border=\"1\" class=\"dataframe\">\n",
       "  <thead>\n",
       "    <tr style=\"text-align: right;\">\n",
       "      <th></th>\n",
       "      <th>Year</th>\n",
       "      <th>Deaths</th>\n",
       "      <th>Death Rate</th>\n",
       "      <th>Age Adjusted Death Rate</th>\n",
       "    </tr>\n",
       "  </thead>\n",
       "  <tbody>\n",
       "    <tr>\n",
       "      <th>count</th>\n",
       "      <td>1134.000000</td>\n",
       "      <td>1134.000000</td>\n",
       "      <td>819.000000</td>\n",
       "      <td>819.000000</td>\n",
       "    </tr>\n",
       "    <tr>\n",
       "      <th>mean</th>\n",
       "      <td>2011.911817</td>\n",
       "      <td>422.889771</td>\n",
       "      <td>53.524092</td>\n",
       "      <td>53.211337</td>\n",
       "    </tr>\n",
       "    <tr>\n",
       "      <th>std</th>\n",
       "      <td>3.722641</td>\n",
       "      <td>851.681673</td>\n",
       "      <td>75.619619</td>\n",
       "      <td>69.038603</td>\n",
       "    </tr>\n",
       "    <tr>\n",
       "      <th>min</th>\n",
       "      <td>2007.000000</td>\n",
       "      <td>1.000000</td>\n",
       "      <td>2.400000</td>\n",
       "      <td>2.500000</td>\n",
       "    </tr>\n",
       "    <tr>\n",
       "      <th>25%</th>\n",
       "      <td>2009.000000</td>\n",
       "      <td>29.000000</td>\n",
       "      <td>11.950000</td>\n",
       "      <td>12.000000</td>\n",
       "    </tr>\n",
       "    <tr>\n",
       "      <th>50%</th>\n",
       "      <td>2011.000000</td>\n",
       "      <td>136.500000</td>\n",
       "      <td>18.500000</td>\n",
       "      <td>20.000000</td>\n",
       "    </tr>\n",
       "    <tr>\n",
       "      <th>75%</th>\n",
       "      <td>2014.000000</td>\n",
       "      <td>291.500000</td>\n",
       "      <td>66.068424</td>\n",
       "      <td>77.900000</td>\n",
       "    </tr>\n",
       "    <tr>\n",
       "      <th>max</th>\n",
       "      <td>2019.000000</td>\n",
       "      <td>7050.000000</td>\n",
       "      <td>491.400000</td>\n",
       "      <td>414.594473</td>\n",
       "    </tr>\n",
       "  </tbody>\n",
       "</table>\n",
       "</div>"
      ],
      "text/plain": [
       "              Year       Deaths  Death Rate  Age Adjusted Death Rate\n",
       "count  1134.000000  1134.000000  819.000000               819.000000\n",
       "mean   2011.911817   422.889771   53.524092                53.211337\n",
       "std       3.722641   851.681673   75.619619                69.038603\n",
       "min    2007.000000     1.000000    2.400000                 2.500000\n",
       "25%    2009.000000    29.000000   11.950000                12.000000\n",
       "50%    2011.000000   136.500000   18.500000                20.000000\n",
       "75%    2014.000000   291.500000   66.068424                77.900000\n",
       "max    2019.000000  7050.000000  491.400000               414.594473"
      ]
     },
     "execution_count": 11,
     "metadata": {},
     "output_type": "execute_result"
    }
   ],
   "source": [
    "nycCauses_Deaths.describe()"
   ]
  },
  {
   "cell_type": "code",
   "execution_count": 22,
   "id": "059653f0-e022-40f1-9e35-96744d9198c9",
   "metadata": {},
   "outputs": [
    {
     "data": {
      "text/plain": [
       "Diseases of Heart (I00-I09, I11, I13, I20-I51)    110\n",
       "All Other Causes                                  110\n",
       "Malignant Neoplasms (Cancer: C00-C97)             110\n",
       "Influenza (Flu) and Pneumonia (J09-J18)           102\n",
       "Diabetes Mellitus (E10-E14)                       100\n",
       "Name: Leading Cause, dtype: int64"
      ]
     },
     "execution_count": 22,
     "metadata": {},
     "output_type": "execute_result"
    }
   ],
   "source": [
    "nycCauses_Deaths[\"Leading Cause\"].value_counts().head()"
   ]
  },
  {
   "cell_type": "code",
   "execution_count": 27,
   "id": "efcc78f9-8e01-4596-8933-411a1ba720b7",
   "metadata": {},
   "outputs": [
    {
     "data": {
      "text/plain": [
       "Male      581\n",
       "Female    553\n",
       "Name: Sex, dtype: int64"
      ]
     },
     "execution_count": 27,
     "metadata": {},
     "output_type": "execute_result"
    }
   ],
   "source": [
    "nycCauses_Deaths[\"Sex\"].value_counts().head()"
   ]
  },
  {
   "cell_type": "code",
   "execution_count": 14,
   "id": "1f5009be-ea50-4510-b235-8aac875002ba",
   "metadata": {},
   "outputs": [
    {
     "data": {
      "text/plain": [
       "Hispanic                      199\n",
       "Asian and Pacific Islander    199\n",
       "Black Non-Hispanic            178\n",
       "White Non-Hispanic            176\n",
       "Other Race/ Ethnicity         169\n",
       "Not Stated/Unknown            169\n",
       "Non-Hispanic White             22\n",
       "Non-Hispanic Black             22\n",
       "Name: Race Ethnicity, dtype: int64"
      ]
     },
     "execution_count": 14,
     "metadata": {},
     "output_type": "execute_result"
    }
   ],
   "source": [
    "nycCauses_Deaths[\"Race Ethnicity\"].value_counts()"
   ]
  },
  {
   "cell_type": "markdown",
   "id": "1ed26d62-bb85-4b25-84a5-4f915051bb92",
   "metadata": {},
   "source": [
    "We have Male, M, Female and F for sex. So, we will change the factor of F and M to Female and Male. Afterwards, we will update `nycCauses_noNA` as well.\n",
    "\n",
    "As a best practice, it is good to check all levels of features with factors.  Above we have both Black Non-Hispanic and Non-Hispanic Black and White Non-Hispanic and Non-Hispanic White,  We need to address this so it will not effect our work.\n",
    "\n",
    "Rather than updating the data set further, we will make sure to reference both features when requesting information about either black or white descendants.\n",
    "\n"
   ]
  },
  {
   "cell_type": "code",
   "execution_count": 20,
   "id": "f2201d9f-e810-4cec-8176-3f6a800a9b7a",
   "metadata": {},
   "outputs": [
    {
     "data": {
      "text/plain": [
       "Male      581\n",
       "Female    553\n",
       "Name: Sex, dtype: int64"
      ]
     },
     "execution_count": 20,
     "metadata": {},
     "output_type": "execute_result"
    }
   ],
   "source": [
    "nycCauses_Deaths[\"Sex\"].value_counts()"
   ]
  },
  {
   "cell_type": "markdown",
   "id": "754d1131-1f32-4472-aa40-85315ff753e5",
   "metadata": {},
   "source": [
    "For now, we will not change M to Male or F to Female.  If you notice above, python determined that the factors should be grouped into two factors by sex."
   ]
  },
  {
   "cell_type": "code",
   "execution_count": 28,
   "id": "b5076b7c-ed29-4f42-9abc-ae79a88aff4c",
   "metadata": {},
   "outputs": [],
   "source": [
    "#nycCauses_Deaths['Sex'] = nycCauses_Deaths['Sex'].replace(['M','F'],['Male','Female'])\n",
    "#nycCauses_noNAs['Sex'] = nycCauses_noNAs['Sex'].replace(['M','F'],['Male','Female'])"
   ]
  },
  {
   "cell_type": "code",
   "execution_count": 30,
   "id": "d3fbe94b-406e-482f-83cb-62fde14e3109",
   "metadata": {},
   "outputs": [
    {
     "data": {
      "text/plain": [
       "2019    178\n",
       "2014    129\n",
       "2013    127\n",
       "2012    122\n",
       "2008    117\n",
       "2011    117\n",
       "2010    116\n",
       "2007    115\n",
       "2009    113\n",
       "Name: Year, dtype: int64"
      ]
     },
     "execution_count": 30,
     "metadata": {},
     "output_type": "execute_result"
    }
   ],
   "source": [
    "nycCauses_Deaths[\"Year\"].value_counts()"
   ]
  },
  {
   "cell_type": "markdown",
   "id": "5270bfe2-779d-4583-b3ba-5d6654d84c68",
   "metadata": {},
   "source": [
    "We notice that we are missing data from 2015 - 2018. I’m not sure why we are missing data. The data dictionary in the Cause_of_Death_121412.csv file states years from 2007 - 2016 and the title gives the impression we will have data from 2007. We have an discrepancy, but we will carry on.\n",
    "\n",
    "Now our data sets seem to be clean. As mentioned above we will use nycCauses_Deaths and nycCauses_noNA. We will mainly use nycCauses_Deaths, because we were able to maintain the most data."
   ]
  },
  {
   "cell_type": "markdown",
   "id": "627f77d1-3f9d-4e52-b82b-5d4ccaf96e2a",
   "metadata": {},
   "source": [
    "## Analyze\n",
    "\n",
    "Question 1 - For black men who died in 2019, how many men died from heart disease or diabetes?"
   ]
  },
  {
   "cell_type": "code",
   "execution_count": 32,
   "id": "9ad58ecd-9d54-4dd5-8fbd-1ae3d81537c7",
   "metadata": {},
   "outputs": [
    {
     "data": {
      "text/html": [
       "<div>\n",
       "<style scoped>\n",
       "    .dataframe tbody tr th:only-of-type {\n",
       "        vertical-align: middle;\n",
       "    }\n",
       "\n",
       "    .dataframe tbody tr th {\n",
       "        vertical-align: top;\n",
       "    }\n",
       "\n",
       "    .dataframe thead th {\n",
       "        text-align: right;\n",
       "    }\n",
       "</style>\n",
       "<table border=\"1\" class=\"dataframe\">\n",
       "  <thead>\n",
       "    <tr style=\"text-align: right;\">\n",
       "      <th></th>\n",
       "      <th>Year</th>\n",
       "      <th>Leading Cause</th>\n",
       "      <th>Sex</th>\n",
       "      <th>Race Ethnicity</th>\n",
       "      <th>Deaths</th>\n",
       "      <th>Death Rate</th>\n",
       "      <th>Age Adjusted Death Rate</th>\n",
       "    </tr>\n",
       "  </thead>\n",
       "  <tbody>\n",
       "    <tr>\n",
       "      <th>33</th>\n",
       "      <td>2019</td>\n",
       "      <td>Diseases of Heart (I00-I09, I11, I13, I20-I51)</td>\n",
       "      <td>Male</td>\n",
       "      <td>Non-Hispanic Black</td>\n",
       "      <td>2315.0</td>\n",
       "      <td>279.345114</td>\n",
       "      <td>279.643801</td>\n",
       "    </tr>\n",
       "    <tr>\n",
       "      <th>35</th>\n",
       "      <td>2019</td>\n",
       "      <td>Diabetes Mellitus (E10-E14)</td>\n",
       "      <td>Male</td>\n",
       "      <td>Non-Hispanic Black</td>\n",
       "      <td>377.0</td>\n",
       "      <td>45.491623</td>\n",
       "      <td>44.922951</td>\n",
       "    </tr>\n",
       "    <tr>\n",
       "      <th>121</th>\n",
       "      <td>2019</td>\n",
       "      <td>Diseases of Heart (I00-I09, I11, I13, I20-I51)</td>\n",
       "      <td>Female</td>\n",
       "      <td>Non-Hispanic Black</td>\n",
       "      <td>2483.0</td>\n",
       "      <td>249.016170</td>\n",
       "      <td>173.186946</td>\n",
       "    </tr>\n",
       "    <tr>\n",
       "      <th>123</th>\n",
       "      <td>2019</td>\n",
       "      <td>Diabetes Mellitus (E10-E14)</td>\n",
       "      <td>Female</td>\n",
       "      <td>Non-Hispanic Black</td>\n",
       "      <td>383.0</td>\n",
       "      <td>38.410469</td>\n",
       "      <td>27.781505</td>\n",
       "    </tr>\n",
       "  </tbody>\n",
       "</table>\n",
       "</div>"
      ],
      "text/plain": [
       "     Year                                   Leading Cause     Sex  \\\n",
       "33   2019  Diseases of Heart (I00-I09, I11, I13, I20-I51)    Male   \n",
       "35   2019                     Diabetes Mellitus (E10-E14)    Male   \n",
       "121  2019  Diseases of Heart (I00-I09, I11, I13, I20-I51)  Female   \n",
       "123  2019                     Diabetes Mellitus (E10-E14)  Female   \n",
       "\n",
       "         Race Ethnicity  Deaths  Death Rate  Age Adjusted Death Rate  \n",
       "33   Non-Hispanic Black  2315.0  279.345114               279.643801  \n",
       "35   Non-Hispanic Black   377.0   45.491623                44.922951  \n",
       "121  Non-Hispanic Black  2483.0  249.016170               173.186946  \n",
       "123  Non-Hispanic Black   383.0   38.410469                27.781505  "
      ]
     },
     "execution_count": 32,
     "metadata": {},
     "output_type": "execute_result"
    }
   ],
   "source": [
    "ethnicity_filter = nycCauses_Deaths[(nycCauses_Deaths['Race Ethnicity'] ==\"Black Non-Hispanic\") |(nycCauses_Deaths['Race Ethnicity']==\"Non-Hispanic Black\")]\n",
    "\n",
    "cause_filter = nycCauses_Deaths[nycCauses_Deaths[\"Leading Cause\"] == \"Diseases of Heart (I00-I09, I11, I13, I20-I51)\"]\n",
    "\n",
    "option = [\"Diseases of Heart (I00-I09, I11, I13, I20-I51)\", \"Diabetes Mellitus (E10-E14)\"]\n",
    "result = ethnicity_filter[ethnicity_filter[\"Leading Cause\"].isin(option)]\n",
    "result[result['Year'] ==2019]"
   ]
  },
  {
   "cell_type": "markdown",
   "id": "bc8fe57f-b103-4d6d-a76f-bde2268dad11",
   "metadata": {},
   "source": [
    "In 2019, 2,315 black men died of heart disease and 377 died from complications from diabetes.\n"
   ]
  },
  {
   "cell_type": "markdown",
   "id": "1007bccc-2677-485a-b2a6-8e160614c62b",
   "metadata": {},
   "source": [
    "Question 2 - In 2019, what is the top causes of death for men?"
   ]
  },
  {
   "cell_type": "code",
   "execution_count": 45,
   "id": "e16a8038-8586-499c-abce-10e9dc917a96",
   "metadata": {},
   "outputs": [
    {
     "data": {
      "text/html": [
       "<div>\n",
       "<style scoped>\n",
       "    .dataframe tbody tr th:only-of-type {\n",
       "        vertical-align: middle;\n",
       "    }\n",
       "\n",
       "    .dataframe tbody tr th {\n",
       "        vertical-align: top;\n",
       "    }\n",
       "\n",
       "    .dataframe thead th {\n",
       "        text-align: right;\n",
       "    }\n",
       "</style>\n",
       "<table border=\"1\" class=\"dataframe\">\n",
       "  <thead>\n",
       "    <tr style=\"text-align: right;\">\n",
       "      <th></th>\n",
       "      <th>Year</th>\n",
       "      <th>Deaths</th>\n",
       "      <th>Death Rate</th>\n",
       "      <th>Age Adjusted Death Rate</th>\n",
       "    </tr>\n",
       "    <tr>\n",
       "      <th>Leading Cause</th>\n",
       "      <th></th>\n",
       "      <th></th>\n",
       "      <th></th>\n",
       "      <th></th>\n",
       "    </tr>\n",
       "  </thead>\n",
       "  <tbody>\n",
       "    <tr>\n",
       "      <th>Diseases of Heart (I00-I09, I11, I13, I20-I51)</th>\n",
       "      <td>2019.0</td>\n",
       "      <td>1280.142857</td>\n",
       "      <td>217.210422</td>\n",
       "      <td>243.078583</td>\n",
       "    </tr>\n",
       "    <tr>\n",
       "      <th>Malignant Neoplasms (Cancer: C00-C97)</th>\n",
       "      <td>2019.0</td>\n",
       "      <td>880.428571</td>\n",
       "      <td>138.009340</td>\n",
       "      <td>141.177655</td>\n",
       "    </tr>\n",
       "    <tr>\n",
       "      <th>All Other Causes</th>\n",
       "      <td>2019.0</td>\n",
       "      <td>854.142857</td>\n",
       "      <td>145.769150</td>\n",
       "      <td>161.558553</td>\n",
       "    </tr>\n",
       "    <tr>\n",
       "      <th>Mental and Behavioral Disorders due to Accidental Poisoning and Other Psychoactive Substance Use (F11-F16, F18-F19, X40-X42, X44)</th>\n",
       "      <td>2019.0</td>\n",
       "      <td>193.666667</td>\n",
       "      <td>31.094024</td>\n",
       "      <td>31.045911</td>\n",
       "    </tr>\n",
       "    <tr>\n",
       "      <th>Chronic Lower Respiratory Diseases (J40-J47)</th>\n",
       "      <td>2019.0</td>\n",
       "      <td>143.166667</td>\n",
       "      <td>21.803526</td>\n",
       "      <td>25.395611</td>\n",
       "    </tr>\n",
       "    <tr>\n",
       "      <th>Diabetes Mellitus (E10-E14)</th>\n",
       "      <td>2019.0</td>\n",
       "      <td>141.714286</td>\n",
       "      <td>28.021838</td>\n",
       "      <td>32.453525</td>\n",
       "    </tr>\n",
       "    <tr>\n",
       "      <th>Cerebrovascular Disease (Stroke: I60-I69)</th>\n",
       "      <td>2019.0</td>\n",
       "      <td>131.666667</td>\n",
       "      <td>20.314582</td>\n",
       "      <td>19.607114</td>\n",
       "    </tr>\n",
       "    <tr>\n",
       "      <th>Influenza (Flu) and Pneumonia (J09-J18)</th>\n",
       "      <td>2019.0</td>\n",
       "      <td>121.571429</td>\n",
       "      <td>20.001156</td>\n",
       "      <td>21.710398</td>\n",
       "    </tr>\n",
       "    <tr>\n",
       "      <th>Accidents Except Drug Poisoning (V01-X39, X43, X45-X59, Y85-Y86)</th>\n",
       "      <td>2019.0</td>\n",
       "      <td>95.428571</td>\n",
       "      <td>16.205032</td>\n",
       "      <td>17.519148</td>\n",
       "    </tr>\n",
       "    <tr>\n",
       "      <th>Essential Hypertension and Renal Diseases (I10, I12)</th>\n",
       "      <td>2019.0</td>\n",
       "      <td>93.833333</td>\n",
       "      <td>14.302774</td>\n",
       "      <td>14.429006</td>\n",
       "    </tr>\n",
       "  </tbody>\n",
       "</table>\n",
       "</div>"
      ],
      "text/plain": [
       "                                                      Year       Deaths  \\\n",
       "Leading Cause                                                             \n",
       "Diseases of Heart (I00-I09, I11, I13, I20-I51)      2019.0  1280.142857   \n",
       "Malignant Neoplasms (Cancer: C00-C97)               2019.0   880.428571   \n",
       "All Other Causes                                    2019.0   854.142857   \n",
       "Mental and Behavioral Disorders due to Accident...  2019.0   193.666667   \n",
       "Chronic Lower Respiratory Diseases (J40-J47)        2019.0   143.166667   \n",
       "Diabetes Mellitus (E10-E14)                         2019.0   141.714286   \n",
       "Cerebrovascular Disease (Stroke: I60-I69)           2019.0   131.666667   \n",
       "Influenza (Flu) and Pneumonia (J09-J18)             2019.0   121.571429   \n",
       "Accidents Except Drug Poisoning (V01-X39, X43, ...  2019.0    95.428571   \n",
       "Essential Hypertension and Renal Diseases (I10,...  2019.0    93.833333   \n",
       "\n",
       "                                                    Death Rate  \\\n",
       "Leading Cause                                                    \n",
       "Diseases of Heart (I00-I09, I11, I13, I20-I51)      217.210422   \n",
       "Malignant Neoplasms (Cancer: C00-C97)               138.009340   \n",
       "All Other Causes                                    145.769150   \n",
       "Mental and Behavioral Disorders due to Accident...   31.094024   \n",
       "Chronic Lower Respiratory Diseases (J40-J47)         21.803526   \n",
       "Diabetes Mellitus (E10-E14)                          28.021838   \n",
       "Cerebrovascular Disease (Stroke: I60-I69)            20.314582   \n",
       "Influenza (Flu) and Pneumonia (J09-J18)              20.001156   \n",
       "Accidents Except Drug Poisoning (V01-X39, X43, ...   16.205032   \n",
       "Essential Hypertension and Renal Diseases (I10,...   14.302774   \n",
       "\n",
       "                                                    Age Adjusted Death Rate  \n",
       "Leading Cause                                                                \n",
       "Diseases of Heart (I00-I09, I11, I13, I20-I51)                   243.078583  \n",
       "Malignant Neoplasms (Cancer: C00-C97)                            141.177655  \n",
       "All Other Causes                                                 161.558553  \n",
       "Mental and Behavioral Disorders due to Accident...                31.045911  \n",
       "Chronic Lower Respiratory Diseases (J40-J47)                      25.395611  \n",
       "Diabetes Mellitus (E10-E14)                                       32.453525  \n",
       "Cerebrovascular Disease (Stroke: I60-I69)                         19.607114  \n",
       "Influenza (Flu) and Pneumonia (J09-J18)                           21.710398  \n",
       "Accidents Except Drug Poisoning (V01-X39, X43, ...                17.519148  \n",
       "Essential Hypertension and Renal Diseases (I10,...                14.429006  "
      ]
     },
     "execution_count": 45,
     "metadata": {},
     "output_type": "execute_result"
    }
   ],
   "source": [
    "YrGroup = nycCauses_Deaths[nycCauses_Deaths['Year'] ==2019]\n",
    "MenOnly = YrGroup[YrGroup['Sex'] =='Male']\n",
    "MenOnly.groupby(\"Leading Cause\").mean().nlargest(n=10, columns='Deaths')"
   ]
  },
  {
   "cell_type": "markdown",
   "id": "e3cb9020-5a2e-452d-8a39-4dbf68a6302a",
   "metadata": {},
   "source": [
    "From the table above, We can see Heart disease is the top cause of death for men in 2019 with 1,280 deaths.  Recall, women had the same top cause of death. "
   ]
  },
  {
   "cell_type": "markdown",
   "id": "dcab217b-6969-4053-95a3-b8b32776a3a5",
   "metadata": {},
   "source": [
    "Question 3 - Question two leads us to ask, Is heart disease the leading cause of death for all race/ethnicity in NYC in 2019? Is it a leading cause by race? We will look at Black, White, Hispanic, Asian and Pacific Islander and Other Race."
   ]
  },
  {
   "cell_type": "markdown",
   "id": "ae59d105-ba95-4141-a9be-7ffe51a16fd2",
   "metadata": {},
   "source": [
    "Ethnicity - Black men "
   ]
  },
  {
   "cell_type": "code",
   "execution_count": 47,
   "id": "10c25853-8d9f-4656-8256-8dd0e1f21821",
   "metadata": {},
   "outputs": [
    {
     "data": {
      "text/html": [
       "<div>\n",
       "<style scoped>\n",
       "    .dataframe tbody tr th:only-of-type {\n",
       "        vertical-align: middle;\n",
       "    }\n",
       "\n",
       "    .dataframe tbody tr th {\n",
       "        vertical-align: top;\n",
       "    }\n",
       "\n",
       "    .dataframe thead th {\n",
       "        text-align: right;\n",
       "    }\n",
       "</style>\n",
       "<table border=\"1\" class=\"dataframe\">\n",
       "  <thead>\n",
       "    <tr style=\"text-align: right;\">\n",
       "      <th></th>\n",
       "      <th>Year</th>\n",
       "      <th>Deaths</th>\n",
       "      <th>Death Rate</th>\n",
       "      <th>Age Adjusted Death Rate</th>\n",
       "    </tr>\n",
       "    <tr>\n",
       "      <th>Leading Cause</th>\n",
       "      <th></th>\n",
       "      <th></th>\n",
       "      <th></th>\n",
       "      <th></th>\n",
       "    </tr>\n",
       "  </thead>\n",
       "  <tbody>\n",
       "    <tr>\n",
       "      <th>Diseases of Heart (I00-I09, I11, I13, I20-I51)</th>\n",
       "      <td>2019.0</td>\n",
       "      <td>2315.0</td>\n",
       "      <td>279.345114</td>\n",
       "      <td>279.643801</td>\n",
       "    </tr>\n",
       "    <tr>\n",
       "      <th>All Other Causes</th>\n",
       "      <td>2019.0</td>\n",
       "      <td>1507.0</td>\n",
       "      <td>181.845826</td>\n",
       "      <td>182.682607</td>\n",
       "    </tr>\n",
       "    <tr>\n",
       "      <th>Malignant Neoplasms (Cancer: C00-C97)</th>\n",
       "      <td>2019.0</td>\n",
       "      <td>1421.0</td>\n",
       "      <td>171.468426</td>\n",
       "      <td>168.480305</td>\n",
       "    </tr>\n",
       "    <tr>\n",
       "      <th>Diabetes Mellitus (E10-E14)</th>\n",
       "      <td>2019.0</td>\n",
       "      <td>377.0</td>\n",
       "      <td>45.491623</td>\n",
       "      <td>44.922951</td>\n",
       "    </tr>\n",
       "    <tr>\n",
       "      <th>Mental and Behavioral Disorders due to Accidental Poisoning and Other Psychoactive Substance Use (F11-F16, F18-F19, X40-X42, X44)</th>\n",
       "      <td>2019.0</td>\n",
       "      <td>294.0</td>\n",
       "      <td>35.476226</td>\n",
       "      <td>32.354152</td>\n",
       "    </tr>\n",
       "    <tr>\n",
       "      <th>Cerebrovascular Disease (Stroke: I60-I69)</th>\n",
       "      <td>2019.0</td>\n",
       "      <td>228.0</td>\n",
       "      <td>27.512175</td>\n",
       "      <td>27.147392</td>\n",
       "    </tr>\n",
       "    <tr>\n",
       "      <th>Influenza (Flu) and Pneumonia (J09-J18)</th>\n",
       "      <td>2019.0</td>\n",
       "      <td>211.0</td>\n",
       "      <td>25.460829</td>\n",
       "      <td>25.796998</td>\n",
       "    </tr>\n",
       "    <tr>\n",
       "      <th>Chronic Lower Respiratory Diseases (J40-J47)</th>\n",
       "      <td>2019.0</td>\n",
       "      <td>210.0</td>\n",
       "      <td>25.340162</td>\n",
       "      <td>25.602316</td>\n",
       "    </tr>\n",
       "    <tr>\n",
       "      <th>Essential Hypertension and Renal Diseases (I10, I12)</th>\n",
       "      <td>2019.0</td>\n",
       "      <td>185.0</td>\n",
       "      <td>22.323476</td>\n",
       "      <td>22.764631</td>\n",
       "    </tr>\n",
       "    <tr>\n",
       "      <th>Assault (Homicide: U01-U02, Y87.1, X85-Y09)</th>\n",
       "      <td>2019.0</td>\n",
       "      <td>156.0</td>\n",
       "      <td>18.824120</td>\n",
       "      <td>18.992306</td>\n",
       "    </tr>\n",
       "  </tbody>\n",
       "</table>\n",
       "</div>"
      ],
      "text/plain": [
       "                                                      Year  Deaths  \\\n",
       "Leading Cause                                                        \n",
       "Diseases of Heart (I00-I09, I11, I13, I20-I51)      2019.0  2315.0   \n",
       "All Other Causes                                    2019.0  1507.0   \n",
       "Malignant Neoplasms (Cancer: C00-C97)               2019.0  1421.0   \n",
       "Diabetes Mellitus (E10-E14)                         2019.0   377.0   \n",
       "Mental and Behavioral Disorders due to Accident...  2019.0   294.0   \n",
       "Cerebrovascular Disease (Stroke: I60-I69)           2019.0   228.0   \n",
       "Influenza (Flu) and Pneumonia (J09-J18)             2019.0   211.0   \n",
       "Chronic Lower Respiratory Diseases (J40-J47)        2019.0   210.0   \n",
       "Essential Hypertension and Renal Diseases (I10,...  2019.0   185.0   \n",
       "Assault (Homicide: U01-U02, Y87.1, X85-Y09)         2019.0   156.0   \n",
       "\n",
       "                                                    Death Rate  \\\n",
       "Leading Cause                                                    \n",
       "Diseases of Heart (I00-I09, I11, I13, I20-I51)      279.345114   \n",
       "All Other Causes                                    181.845826   \n",
       "Malignant Neoplasms (Cancer: C00-C97)               171.468426   \n",
       "Diabetes Mellitus (E10-E14)                          45.491623   \n",
       "Mental and Behavioral Disorders due to Accident...   35.476226   \n",
       "Cerebrovascular Disease (Stroke: I60-I69)            27.512175   \n",
       "Influenza (Flu) and Pneumonia (J09-J18)              25.460829   \n",
       "Chronic Lower Respiratory Diseases (J40-J47)         25.340162   \n",
       "Essential Hypertension and Renal Diseases (I10,...   22.323476   \n",
       "Assault (Homicide: U01-U02, Y87.1, X85-Y09)          18.824120   \n",
       "\n",
       "                                                    Age Adjusted Death Rate  \n",
       "Leading Cause                                                                \n",
       "Diseases of Heart (I00-I09, I11, I13, I20-I51)                   279.643801  \n",
       "All Other Causes                                                 182.682607  \n",
       "Malignant Neoplasms (Cancer: C00-C97)                            168.480305  \n",
       "Diabetes Mellitus (E10-E14)                                       44.922951  \n",
       "Mental and Behavioral Disorders due to Accident...                32.354152  \n",
       "Cerebrovascular Disease (Stroke: I60-I69)                         27.147392  \n",
       "Influenza (Flu) and Pneumonia (J09-J18)                           25.796998  \n",
       "Chronic Lower Respiratory Diseases (J40-J47)                      25.602316  \n",
       "Essential Hypertension and Renal Diseases (I10,...                22.764631  \n",
       "Assault (Homicide: U01-U02, Y87.1, X85-Y09)                       18.992306  "
      ]
     },
     "execution_count": 47,
     "metadata": {},
     "output_type": "execute_result"
    }
   ],
   "source": [
    "YrGroup = nycCauses_Deaths[nycCauses_Deaths['Year'] ==2019]\n",
    "MenOnly = YrGroup[YrGroup['Sex'] =='Male']\n",
    "ethnicity_filter = MenOnly[(MenOnly['Race Ethnicity'] ==\"Black Non-Hispanic\") |(MenOnly['Race Ethnicity']==\"Non-Hispanic Black\")]\n",
    "ethnicity_filter.groupby(\"Leading Cause\").mean().nlargest(n=10, columns='Deaths')"
   ]
  },
  {
   "cell_type": "markdown",
   "id": "2fef8ccf-7f09-44fe-af1a-7be3505ed6ec",
   "metadata": {},
   "source": [
    "Yes, we can confirm 2,315 deaths from heart disease.  This is followed by cancer with 1,421 deaths for Black men in 2019. I noticed a discrepancy, so I will revisit."
   ]
  },
  {
   "cell_type": "markdown",
   "id": "865945bb-052c-48b3-9ba4-058ccd06d39c",
   "metadata": {},
   "source": [
    "Ethnicity - White men"
   ]
  },
  {
   "cell_type": "code",
   "execution_count": 35,
   "id": "85826f95-18e5-4f86-bd35-830fa09425ea",
   "metadata": {},
   "outputs": [
    {
     "data": {
      "text/html": [
       "<div>\n",
       "<style scoped>\n",
       "    .dataframe tbody tr th:only-of-type {\n",
       "        vertical-align: middle;\n",
       "    }\n",
       "\n",
       "    .dataframe tbody tr th {\n",
       "        vertical-align: top;\n",
       "    }\n",
       "\n",
       "    .dataframe thead th {\n",
       "        text-align: right;\n",
       "    }\n",
       "</style>\n",
       "<table border=\"1\" class=\"dataframe\">\n",
       "  <thead>\n",
       "    <tr style=\"text-align: right;\">\n",
       "      <th></th>\n",
       "      <th>Year</th>\n",
       "      <th>Deaths</th>\n",
       "      <th>Death Rate</th>\n",
       "      <th>Age Adjusted Death Rate</th>\n",
       "    </tr>\n",
       "    <tr>\n",
       "      <th>Leading Cause</th>\n",
       "      <th></th>\n",
       "      <th></th>\n",
       "      <th></th>\n",
       "      <th></th>\n",
       "    </tr>\n",
       "  </thead>\n",
       "  <tbody>\n",
       "    <tr>\n",
       "      <th>Diseases of Heart (I00-I09, I11, I13, I20-I51)</th>\n",
       "      <td>2019.0</td>\n",
       "      <td>4017.5</td>\n",
       "      <td>299.773368</td>\n",
       "      <td>183.281625</td>\n",
       "    </tr>\n",
       "    <tr>\n",
       "      <th>Malignant Neoplasms (Cancer: C00-C97)</th>\n",
       "      <td>2019.0</td>\n",
       "      <td>2720.0</td>\n",
       "      <td>203.048689</td>\n",
       "      <td>144.065429</td>\n",
       "    </tr>\n",
       "    <tr>\n",
       "      <th>All Other Causes</th>\n",
       "      <td>2019.0</td>\n",
       "      <td>2315.0</td>\n",
       "      <td>172.808052</td>\n",
       "      <td>117.884236</td>\n",
       "    </tr>\n",
       "    <tr>\n",
       "      <th>Chronic Lower Respiratory Diseases (J40-J47)</th>\n",
       "      <td>2019.0</td>\n",
       "      <td>426.5</td>\n",
       "      <td>31.730966</td>\n",
       "      <td>19.998767</td>\n",
       "    </tr>\n",
       "    <tr>\n",
       "      <th>Alzheimer's Disease (G30)</th>\n",
       "      <td>2019.0</td>\n",
       "      <td>341.0</td>\n",
       "      <td>24.867168</td>\n",
       "      <td>10.508717</td>\n",
       "    </tr>\n",
       "    <tr>\n",
       "      <th>Cerebrovascular Disease (Stroke: I60-I69)</th>\n",
       "      <td>2019.0</td>\n",
       "      <td>328.0</td>\n",
       "      <td>24.367555</td>\n",
       "      <td>14.635947</td>\n",
       "    </tr>\n",
       "    <tr>\n",
       "      <th>Influenza (Flu) and Pneumonia (J09-J18)</th>\n",
       "      <td>2019.0</td>\n",
       "      <td>325.0</td>\n",
       "      <td>24.276897</td>\n",
       "      <td>15.124633</td>\n",
       "    </tr>\n",
       "    <tr>\n",
       "      <th>Mental and Behavioral Disorders due to Accidental Poisoning and Other Psychoactive Substance Use (F11-F16, F18-F19, X40-X42, X44)</th>\n",
       "      <td>2019.0</td>\n",
       "      <td>271.5</td>\n",
       "      <td>20.503565</td>\n",
       "      <td>18.833899</td>\n",
       "    </tr>\n",
       "    <tr>\n",
       "      <th>Diabetes Mellitus (E10-E14)</th>\n",
       "      <td>2019.0</td>\n",
       "      <td>222.5</td>\n",
       "      <td>16.643704</td>\n",
       "      <td>11.554486</td>\n",
       "    </tr>\n",
       "    <tr>\n",
       "      <th>Accidents Except Drug Poisoning (V01-X39, X43, X45-X59, Y85-Y86)</th>\n",
       "      <td>2019.0</td>\n",
       "      <td>219.5</td>\n",
       "      <td>16.465389</td>\n",
       "      <td>11.867373</td>\n",
       "    </tr>\n",
       "  </tbody>\n",
       "</table>\n",
       "</div>"
      ],
      "text/plain": [
       "                                                      Year  Deaths  \\\n",
       "Leading Cause                                                        \n",
       "Diseases of Heart (I00-I09, I11, I13, I20-I51)      2019.0  4017.5   \n",
       "Malignant Neoplasms (Cancer: C00-C97)               2019.0  2720.0   \n",
       "All Other Causes                                    2019.0  2315.0   \n",
       "Chronic Lower Respiratory Diseases (J40-J47)        2019.0   426.5   \n",
       "Alzheimer's Disease (G30)                           2019.0   341.0   \n",
       "Cerebrovascular Disease (Stroke: I60-I69)           2019.0   328.0   \n",
       "Influenza (Flu) and Pneumonia (J09-J18)             2019.0   325.0   \n",
       "Mental and Behavioral Disorders due to Accident...  2019.0   271.5   \n",
       "Diabetes Mellitus (E10-E14)                         2019.0   222.5   \n",
       "Accidents Except Drug Poisoning (V01-X39, X43, ...  2019.0   219.5   \n",
       "\n",
       "                                                    Death Rate  \\\n",
       "Leading Cause                                                    \n",
       "Diseases of Heart (I00-I09, I11, I13, I20-I51)      299.773368   \n",
       "Malignant Neoplasms (Cancer: C00-C97)               203.048689   \n",
       "All Other Causes                                    172.808052   \n",
       "Chronic Lower Respiratory Diseases (J40-J47)         31.730966   \n",
       "Alzheimer's Disease (G30)                            24.867168   \n",
       "Cerebrovascular Disease (Stroke: I60-I69)            24.367555   \n",
       "Influenza (Flu) and Pneumonia (J09-J18)              24.276897   \n",
       "Mental and Behavioral Disorders due to Accident...   20.503565   \n",
       "Diabetes Mellitus (E10-E14)                          16.643704   \n",
       "Accidents Except Drug Poisoning (V01-X39, X43, ...   16.465389   \n",
       "\n",
       "                                                    Age Adjusted Death Rate  \n",
       "Leading Cause                                                                \n",
       "Diseases of Heart (I00-I09, I11, I13, I20-I51)                   183.281625  \n",
       "Malignant Neoplasms (Cancer: C00-C97)                            144.065429  \n",
       "All Other Causes                                                 117.884236  \n",
       "Chronic Lower Respiratory Diseases (J40-J47)                      19.998767  \n",
       "Alzheimer's Disease (G30)                                         10.508717  \n",
       "Cerebrovascular Disease (Stroke: I60-I69)                         14.635947  \n",
       "Influenza (Flu) and Pneumonia (J09-J18)                           15.124633  \n",
       "Mental and Behavioral Disorders due to Accident...                18.833899  \n",
       "Diabetes Mellitus (E10-E14)                                       11.554486  \n",
       "Accidents Except Drug Poisoning (V01-X39, X43, ...                11.867373  "
      ]
     },
     "execution_count": 35,
     "metadata": {},
     "output_type": "execute_result"
    }
   ],
   "source": [
    "YrGroup = nycCauses_Deaths[nycCauses_Deaths['Year'] ==2019]\n",
    "ethnicity_filter = YrGroup[(YrGroup['Race Ethnicity'] ==\"White Non-Hispanic\") |(YrGroup['Race Ethnicity']==\"Non-Hispanic White\")]\n",
    "ethnicity_filter.groupby(\"Leading Cause\").mean().nlargest(n=10, columns='Deaths')"
   ]
  },
  {
   "cell_type": "markdown",
   "id": "38f301c9-8557-45eb-a196-5d51569f695c",
   "metadata": {},
   "source": [
    "For white men, we have 4,017 deaths from heart disease in 2019."
   ]
  },
  {
   "cell_type": "markdown",
   "id": "5a98e126-9240-4a6b-bca5-6da2d7419f21",
   "metadata": {},
   "source": [
    "Ethnicity - Asian and Pacific Islander men"
   ]
  },
  {
   "cell_type": "code",
   "execution_count": 48,
   "id": "73972d24-8674-466d-ba96-4b7dee6a1cd2",
   "metadata": {},
   "outputs": [
    {
     "data": {
      "text/html": [
       "<div>\n",
       "<style scoped>\n",
       "    .dataframe tbody tr th:only-of-type {\n",
       "        vertical-align: middle;\n",
       "    }\n",
       "\n",
       "    .dataframe tbody tr th {\n",
       "        vertical-align: top;\n",
       "    }\n",
       "\n",
       "    .dataframe thead th {\n",
       "        text-align: right;\n",
       "    }\n",
       "</style>\n",
       "<table border=\"1\" class=\"dataframe\">\n",
       "  <thead>\n",
       "    <tr style=\"text-align: right;\">\n",
       "      <th></th>\n",
       "      <th>Year</th>\n",
       "      <th>Deaths</th>\n",
       "      <th>Death Rate</th>\n",
       "      <th>Age Adjusted Death Rate</th>\n",
       "    </tr>\n",
       "    <tr>\n",
       "      <th>Leading Cause</th>\n",
       "      <th></th>\n",
       "      <th></th>\n",
       "      <th></th>\n",
       "      <th></th>\n",
       "    </tr>\n",
       "  </thead>\n",
       "  <tbody>\n",
       "    <tr>\n",
       "      <th>Diseases of Heart (I00-I09, I11, I13, I20-I51)</th>\n",
       "      <td>2019.0</td>\n",
       "      <td>731.0</td>\n",
       "      <td>124.752330</td>\n",
       "      <td>119.372338</td>\n",
       "    </tr>\n",
       "    <tr>\n",
       "      <th>Malignant Neoplasms (Cancer: C00-C97)</th>\n",
       "      <td>2019.0</td>\n",
       "      <td>671.0</td>\n",
       "      <td>114.512741</td>\n",
       "      <td>105.924264</td>\n",
       "    </tr>\n",
       "    <tr>\n",
       "      <th>All Other Causes</th>\n",
       "      <td>2019.0</td>\n",
       "      <td>549.0</td>\n",
       "      <td>93.692242</td>\n",
       "      <td>90.700899</td>\n",
       "    </tr>\n",
       "    <tr>\n",
       "      <th>Cerebrovascular Disease (Stroke: I60-I69)</th>\n",
       "      <td>2019.0</td>\n",
       "      <td>105.0</td>\n",
       "      <td>17.919281</td>\n",
       "      <td>16.870654</td>\n",
       "    </tr>\n",
       "    <tr>\n",
       "      <th>Influenza (Flu) and Pneumonia (J09-J18)</th>\n",
       "      <td>2019.0</td>\n",
       "      <td>92.0</td>\n",
       "      <td>15.700704</td>\n",
       "      <td>15.273521</td>\n",
       "    </tr>\n",
       "    <tr>\n",
       "      <th>Chronic Lower Respiratory Diseases (J40-J47)</th>\n",
       "      <td>2019.0</td>\n",
       "      <td>80.0</td>\n",
       "      <td>13.652786</td>\n",
       "      <td>13.418424</td>\n",
       "    </tr>\n",
       "    <tr>\n",
       "      <th>Diabetes Mellitus (E10-E14)</th>\n",
       "      <td>2019.0</td>\n",
       "      <td>76.0</td>\n",
       "      <td>12.970146</td>\n",
       "      <td>11.961792</td>\n",
       "    </tr>\n",
       "    <tr>\n",
       "      <th>Essential Hypertension and Renal Diseases (I10, I12)</th>\n",
       "      <td>2019.0</td>\n",
       "      <td>56.0</td>\n",
       "      <td>9.556950</td>\n",
       "      <td>9.228507</td>\n",
       "    </tr>\n",
       "    <tr>\n",
       "      <th>Accidents Except Drug Poisoning (V01-X39, X43, X45-X59, Y85-Y86)</th>\n",
       "      <td>2019.0</td>\n",
       "      <td>52.0</td>\n",
       "      <td>8.874311</td>\n",
       "      <td>8.389709</td>\n",
       "    </tr>\n",
       "    <tr>\n",
       "      <th>Intentional Self-Harm (Suicide: U03, X60-X84, Y87.0)</th>\n",
       "      <td>2019.0</td>\n",
       "      <td>48.0</td>\n",
       "      <td>8.191671</td>\n",
       "      <td>7.848127</td>\n",
       "    </tr>\n",
       "  </tbody>\n",
       "</table>\n",
       "</div>"
      ],
      "text/plain": [
       "                                                      Year  Deaths  \\\n",
       "Leading Cause                                                        \n",
       "Diseases of Heart (I00-I09, I11, I13, I20-I51)      2019.0   731.0   \n",
       "Malignant Neoplasms (Cancer: C00-C97)               2019.0   671.0   \n",
       "All Other Causes                                    2019.0   549.0   \n",
       "Cerebrovascular Disease (Stroke: I60-I69)           2019.0   105.0   \n",
       "Influenza (Flu) and Pneumonia (J09-J18)             2019.0    92.0   \n",
       "Chronic Lower Respiratory Diseases (J40-J47)        2019.0    80.0   \n",
       "Diabetes Mellitus (E10-E14)                         2019.0    76.0   \n",
       "Essential Hypertension and Renal Diseases (I10,...  2019.0    56.0   \n",
       "Accidents Except Drug Poisoning (V01-X39, X43, ...  2019.0    52.0   \n",
       "Intentional Self-Harm (Suicide: U03, X60-X84, Y...  2019.0    48.0   \n",
       "\n",
       "                                                    Death Rate  \\\n",
       "Leading Cause                                                    \n",
       "Diseases of Heart (I00-I09, I11, I13, I20-I51)      124.752330   \n",
       "Malignant Neoplasms (Cancer: C00-C97)               114.512741   \n",
       "All Other Causes                                     93.692242   \n",
       "Cerebrovascular Disease (Stroke: I60-I69)            17.919281   \n",
       "Influenza (Flu) and Pneumonia (J09-J18)              15.700704   \n",
       "Chronic Lower Respiratory Diseases (J40-J47)         13.652786   \n",
       "Diabetes Mellitus (E10-E14)                          12.970146   \n",
       "Essential Hypertension and Renal Diseases (I10,...    9.556950   \n",
       "Accidents Except Drug Poisoning (V01-X39, X43, ...    8.874311   \n",
       "Intentional Self-Harm (Suicide: U03, X60-X84, Y...    8.191671   \n",
       "\n",
       "                                                    Age Adjusted Death Rate  \n",
       "Leading Cause                                                                \n",
       "Diseases of Heart (I00-I09, I11, I13, I20-I51)                   119.372338  \n",
       "Malignant Neoplasms (Cancer: C00-C97)                            105.924264  \n",
       "All Other Causes                                                  90.700899  \n",
       "Cerebrovascular Disease (Stroke: I60-I69)                         16.870654  \n",
       "Influenza (Flu) and Pneumonia (J09-J18)                           15.273521  \n",
       "Chronic Lower Respiratory Diseases (J40-J47)                      13.418424  \n",
       "Diabetes Mellitus (E10-E14)                                       11.961792  \n",
       "Essential Hypertension and Renal Diseases (I10,...                 9.228507  \n",
       "Accidents Except Drug Poisoning (V01-X39, X43, ...                 8.389709  \n",
       "Intentional Self-Harm (Suicide: U03, X60-X84, Y...                 7.848127  "
      ]
     },
     "execution_count": 48,
     "metadata": {},
     "output_type": "execute_result"
    }
   ],
   "source": [
    "YrGroup = nycCauses_Deaths[nycCauses_Deaths['Year'] ==2019]\n",
    "MenOnly = YrGroup[YrGroup['Sex'] =='Male']\n",
    "ethnicity_filter = MenOnly[(MenOnly['Race Ethnicity'] ==\"Asian and Pacific Islander\")]\n",
    "ethnicity_filter.groupby(\"Leading Cause\").mean().nlargest(n=10, columns='Deaths')"
   ]
  },
  {
   "cell_type": "markdown",
   "id": "08255abd-ce2e-4d17-8ff5-5a0217c5d660",
   "metadata": {},
   "source": [
    "The death rate is smaller, which maybe due to small size of the population of Asian and Pacific Islander men in NYC.  Again, we have the top cause of death was from heart disease with 731 deaths.\n"
   ]
  },
  {
   "cell_type": "markdown",
   "id": "1bddaf9c-552b-4815-964e-941083e9092a",
   "metadata": {},
   "source": [
    "Ethnicity - Other Race men"
   ]
  },
  {
   "cell_type": "code",
   "execution_count": 49,
   "id": "def4d094-2c56-4f9a-a579-8deef8f93317",
   "metadata": {},
   "outputs": [
    {
     "data": {
      "text/html": [
       "<div>\n",
       "<style scoped>\n",
       "    .dataframe tbody tr th:only-of-type {\n",
       "        vertical-align: middle;\n",
       "    }\n",
       "\n",
       "    .dataframe tbody tr th {\n",
       "        vertical-align: top;\n",
       "    }\n",
       "\n",
       "    .dataframe thead th {\n",
       "        text-align: right;\n",
       "    }\n",
       "</style>\n",
       "<table border=\"1\" class=\"dataframe\">\n",
       "  <thead>\n",
       "    <tr style=\"text-align: right;\">\n",
       "      <th></th>\n",
       "      <th>Year</th>\n",
       "      <th>Deaths</th>\n",
       "      <th>Death Rate</th>\n",
       "      <th>Age Adjusted Death Rate</th>\n",
       "    </tr>\n",
       "    <tr>\n",
       "      <th>Leading Cause</th>\n",
       "      <th></th>\n",
       "      <th></th>\n",
       "      <th></th>\n",
       "      <th></th>\n",
       "    </tr>\n",
       "  </thead>\n",
       "  <tbody>\n",
       "    <tr>\n",
       "      <th>Diseases of Heart (I00-I09, I11, I13, I20-I51)</th>\n",
       "      <td>2019.0</td>\n",
       "      <td>42.5</td>\n",
       "      <td>NaN</td>\n",
       "      <td>NaN</td>\n",
       "    </tr>\n",
       "    <tr>\n",
       "      <th>Malignant Neoplasms (Cancer: C00-C97)</th>\n",
       "      <td>2019.0</td>\n",
       "      <td>23.5</td>\n",
       "      <td>NaN</td>\n",
       "      <td>NaN</td>\n",
       "    </tr>\n",
       "    <tr>\n",
       "      <th>All Other Causes</th>\n",
       "      <td>2019.0</td>\n",
       "      <td>18.5</td>\n",
       "      <td>NaN</td>\n",
       "      <td>NaN</td>\n",
       "    </tr>\n",
       "    <tr>\n",
       "      <th>Diabetes Mellitus (E10-E14)</th>\n",
       "      <td>2019.0</td>\n",
       "      <td>6.0</td>\n",
       "      <td>NaN</td>\n",
       "      <td>NaN</td>\n",
       "    </tr>\n",
       "    <tr>\n",
       "      <th>Intentional Self-Harm (Suicide: U03, X60-X84, Y87.0)</th>\n",
       "      <td>2019.0</td>\n",
       "      <td>5.5</td>\n",
       "      <td>NaN</td>\n",
       "      <td>NaN</td>\n",
       "    </tr>\n",
       "    <tr>\n",
       "      <th>Influenza (Flu) and Pneumonia (J09-J18)</th>\n",
       "      <td>2019.0</td>\n",
       "      <td>5.0</td>\n",
       "      <td>NaN</td>\n",
       "      <td>NaN</td>\n",
       "    </tr>\n",
       "    <tr>\n",
       "      <th>Mental and Behavioral Disorders due to Accidental Poisoning and Other Psychoactive Substance Use (F11-F16, F18-F19, X40-X42, X44)</th>\n",
       "      <td>2019.0</td>\n",
       "      <td>5.0</td>\n",
       "      <td>NaN</td>\n",
       "      <td>NaN</td>\n",
       "    </tr>\n",
       "    <tr>\n",
       "      <th>Cerebrovascular Disease (Stroke: I60-I69)</th>\n",
       "      <td>2019.0</td>\n",
       "      <td>4.5</td>\n",
       "      <td>NaN</td>\n",
       "      <td>NaN</td>\n",
       "    </tr>\n",
       "    <tr>\n",
       "      <th>Chronic Liver Disease and Cirrhosis (K70, K73-K74)</th>\n",
       "      <td>2019.0</td>\n",
       "      <td>4.0</td>\n",
       "      <td>NaN</td>\n",
       "      <td>NaN</td>\n",
       "    </tr>\n",
       "    <tr>\n",
       "      <th>Chronic Lower Respiratory Diseases (J40-J47)</th>\n",
       "      <td>2019.0</td>\n",
       "      <td>4.0</td>\n",
       "      <td>NaN</td>\n",
       "      <td>NaN</td>\n",
       "    </tr>\n",
       "  </tbody>\n",
       "</table>\n",
       "</div>"
      ],
      "text/plain": [
       "                                                      Year  Deaths  \\\n",
       "Leading Cause                                                        \n",
       "Diseases of Heart (I00-I09, I11, I13, I20-I51)      2019.0    42.5   \n",
       "Malignant Neoplasms (Cancer: C00-C97)               2019.0    23.5   \n",
       "All Other Causes                                    2019.0    18.5   \n",
       "Diabetes Mellitus (E10-E14)                         2019.0     6.0   \n",
       "Intentional Self-Harm (Suicide: U03, X60-X84, Y...  2019.0     5.5   \n",
       "Influenza (Flu) and Pneumonia (J09-J18)             2019.0     5.0   \n",
       "Mental and Behavioral Disorders due to Accident...  2019.0     5.0   \n",
       "Cerebrovascular Disease (Stroke: I60-I69)           2019.0     4.5   \n",
       "Chronic Liver Disease and Cirrhosis (K70, K73-K74)  2019.0     4.0   \n",
       "Chronic Lower Respiratory Diseases (J40-J47)        2019.0     4.0   \n",
       "\n",
       "                                                    Death Rate  \\\n",
       "Leading Cause                                                    \n",
       "Diseases of Heart (I00-I09, I11, I13, I20-I51)             NaN   \n",
       "Malignant Neoplasms (Cancer: C00-C97)                      NaN   \n",
       "All Other Causes                                           NaN   \n",
       "Diabetes Mellitus (E10-E14)                                NaN   \n",
       "Intentional Self-Harm (Suicide: U03, X60-X84, Y...         NaN   \n",
       "Influenza (Flu) and Pneumonia (J09-J18)                    NaN   \n",
       "Mental and Behavioral Disorders due to Accident...         NaN   \n",
       "Cerebrovascular Disease (Stroke: I60-I69)                  NaN   \n",
       "Chronic Liver Disease and Cirrhosis (K70, K73-K74)         NaN   \n",
       "Chronic Lower Respiratory Diseases (J40-J47)               NaN   \n",
       "\n",
       "                                                    Age Adjusted Death Rate  \n",
       "Leading Cause                                                                \n",
       "Diseases of Heart (I00-I09, I11, I13, I20-I51)                          NaN  \n",
       "Malignant Neoplasms (Cancer: C00-C97)                                   NaN  \n",
       "All Other Causes                                                        NaN  \n",
       "Diabetes Mellitus (E10-E14)                                             NaN  \n",
       "Intentional Self-Harm (Suicide: U03, X60-X84, Y...                      NaN  \n",
       "Influenza (Flu) and Pneumonia (J09-J18)                                 NaN  \n",
       "Mental and Behavioral Disorders due to Accident...                      NaN  \n",
       "Cerebrovascular Disease (Stroke: I60-I69)                               NaN  \n",
       "Chronic Liver Disease and Cirrhosis (K70, K73-K74)                      NaN  \n",
       "Chronic Lower Respiratory Diseases (J40-J47)                            NaN  "
      ]
     },
     "execution_count": 49,
     "metadata": {},
     "output_type": "execute_result"
    }
   ],
   "source": [
    "YrGroup = nycCauses_Deaths[nycCauses_Deaths['Year'] ==2019]\n",
    "MenOnly = YrGroup[YrGroup['Sex'] =='Male']\n",
    "ethnicity_filter = MenOnly[(MenOnly['Race Ethnicity'] ==\"Other Race/ Ethnicity\")]\n",
    "ethnicity_filter.groupby(\"Leading Cause\").mean().nlargest(n=10, columns='Deaths')"
   ]
  },
  {
   "cell_type": "markdown",
   "id": "56622176-a2fe-4686-92da-a9d54ff53d5b",
   "metadata": {},
   "source": [
    "Finally, for men who indicated \"other race\", heart disease was the top cause of death in 2019 with 43 cases."
   ]
  },
  {
   "cell_type": "markdown",
   "id": "254347b4-91a2-4c7c-b0de-51ef961ee7f9",
   "metadata": {},
   "source": [
    "## Share"
   ]
  },
  {
   "cell_type": "markdown",
   "id": "c01fec72-e876-43fd-a5c6-167059428a77",
   "metadata": {},
   "source": [
    "## Conclusion"
   ]
  },
  {
   "cell_type": "markdown",
   "id": "edc2648d-20e9-4477-ae78-2e6fc7da4d02",
   "metadata": {},
   "source": [
    "Similar to the women in the R project, we can see that heart disease has been the leading cause of death for men in the NYC area. This is regardless their ethnicity."
   ]
  }
 ],
 "metadata": {
  "kernelspec": {
   "display_name": "Python 3 (ipykernel)",
   "language": "python",
   "name": "python3"
  },
  "language_info": {
   "codemirror_mode": {
    "name": "ipython",
    "version": 3
   },
   "file_extension": ".py",
   "mimetype": "text/x-python",
   "name": "python",
   "nbconvert_exporter": "python",
   "pygments_lexer": "ipython3",
   "version": "3.9.7"
  }
 },
 "nbformat": 4,
 "nbformat_minor": 5
}
